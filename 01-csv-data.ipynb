{
 "cells": [
  {
   "cell_type": "markdown",
   "metadata": {},
   "source": [
    "# Getting Data from the the web\n",
    "\n",
    "The world bank provides climate data via it's web\n",
    "\n",
    "http://climatedataapi.worldbank.org/climateweb/rest/v1/country/cru/var/year/iso3.ext\n",
    "\n",
    "var is either tas or pr ext is usually CSV iso3 is the ISO standard 3 letter code for the country of interset (in capitals)"
   ]
  },
  {
   "cell_type": "code",
   "execution_count": 18,
   "metadata": {
    "collapsed": false
   },
   "outputs": [],
   "source": [
    "# Python requets Library lets us get data straight from a URL\n",
    "import requests"
   ]
  },
  {
   "cell_type": "code",
   "execution_count": 19,
   "metadata": {
    "collapsed": false
   },
   "outputs": [
    {
     "name": "stdout",
     "output_type": "stream",
     "text": [
      "First 100 characters of the data are:\n",
      "year,data\n",
      "1901,8.16360092163086\n",
      "1902,7.798388481140137\n",
      "1903,8.02857780456543\n",
      "1904,8.073899269104004\n",
      "\n"
     ]
    }
   ],
   "source": [
    "url = \"http://climatedataapi.worldbank.org/climateweb/rest/v1/country/cru/tas/year/GBR.csv\"\n",
    "\n",
    "response = requests.get(url)\n",
    "\n",
    "if response.status_code != 200:\n",
    "    print ('Failed to get data:', response.status_code)\n",
    "else:\n",
    "    print ('First 100 characters of the data are:')\n",
    "    print ( response.text[:100])"
   ]
  },
  {
   "cell_type": "markdown",
   "metadata": {},
   "source": [
    "Gettting Status codes for Guatemala (Country Code is GTM)\n",
    "\n",
    "Fetch rainfall for Afghanistan between 1980 and 1999"
   ]
  },
  {
   "cell_type": "code",
   "execution_count": 20,
   "metadata": {
    "collapsed": false
   },
   "outputs": [
    {
     "name": "stdout",
     "output_type": "stream",
     "text": [
      "First 100 characters of the data are:\n",
      "year,data\n",
      "1901,23.428869247436523\n",
      "1902,23.555654525756836\n",
      "1903,23.56220245361328\n",
      "1904,23.44627952575\n"
     ]
    }
   ],
   "source": [
    "url = \"http://climatedataapi.worldbank.org/climateweb/rest/v1/country/cru/tas/year/GTM.csv\"\n",
    "\n",
    "response = requests.get(url)\n",
    "\n",
    "if response.status_code != 200:\n",
    "    print ('Failed to get data:', response.status_code)\n",
    "else:\n",
    "    print ('First 100 characters of the data are:')\n",
    "    print ( response.text[:100])"
   ]
  },
  {
   "cell_type": "code",
   "execution_count": 21,
   "metadata": {
    "collapsed": false
   },
   "outputs": [
    {
     "name": "stdout",
     "output_type": "stream",
     "text": [
      "First 100 characters of the data are:\n",
      "GCM,var,from_year,to_year,annual\n",
      "bccr_bcm2_0,pr,1980,1999,429.92613067639326\n",
      "cccma_cgcm3_1,pr,1980,1\n"
     ]
    }
   ],
   "source": [
    "url = \"http://climatedataapi.worldbank.org/climateweb/rest/v1/country/annualavg/pr/1980/1999/AFG.csv\"\n",
    "\n",
    "response = requests.get(url)\n",
    "\n",
    "if response.status_code != 200:\n",
    "    print ('Failed to get data:', response.status_code)\n",
    "else:\n",
    "    print ('First 100 characters of the data are:')\n",
    "    print ( response.text[:100])"
   ]
  },
  {
   "cell_type": "code",
   "execution_count": 22,
   "metadata": {
    "collapsed": false
   },
   "outputs": [
    {
     "data": {
      "text/plain": [
       "(1903, 78.9)"
      ]
     },
     "execution_count": 22,
     "metadata": {},
     "output_type": "execute_result"
    }
   ],
   "source": [
    "# Create a csv file: test01.csv\n",
    "\n",
    "1901,12.3\n",
    "1902,45.6\n",
    "1903,78.9"
   ]
  },
  {
   "cell_type": "code",
   "execution_count": 23,
   "metadata": {
    "collapsed": false
   },
   "outputs": [
    {
     "name": "stdout",
     "output_type": "stream",
     "text": [
      "10\n",
      "10\n",
      "9\n"
     ]
    }
   ],
   "source": [
    "with open ('test01.csv', 'r') as reader:\n",
    "    for line in reader:\n",
    "        print (len (line))"
   ]
  },
  {
   "cell_type": "code",
   "execution_count": 24,
   "metadata": {
    "collapsed": false
   },
   "outputs": [
    {
     "name": "stdout",
     "output_type": "stream",
     "text": [
      "['1901', '12.3\\n']\n",
      "['1902', '45.6\\n']\n",
      "['1903', '78.9']\n"
     ]
    }
   ],
   "source": [
    "with open ('test01.csv', 'r') as reader:\n",
    "    for line in reader:\n",
    "        fields = line.split(',')\n",
    "        print (fields)"
   ]
  },
  {
   "cell_type": "code",
   "execution_count": 25,
   "metadata": {
    "collapsed": false
   },
   "outputs": [
    {
     "name": "stdout",
     "output_type": "stream",
     "text": [
      "['1901', '12.3']\n",
      "['1902', '45.6']\n",
      "['1903', '78.9']\n"
     ]
    }
   ],
   "source": [
    "# We need to get rid of the hidden newline \\n \n",
    "with open ('test01.csv', 'r') as reader:\n",
    "    for line in reader:\n",
    "        fields = line.strip().split(',')\n",
    "        print (fields)"
   ]
  },
  {
   "cell_type": "markdown",
   "metadata": {},
   "source": [
    "# Using CSV library instead"
   ]
  },
  {
   "cell_type": "code",
   "execution_count": 34,
   "metadata": {
    "collapsed": true
   },
   "outputs": [],
   "source": [
    "import csv"
   ]
  },
  {
   "cell_type": "code",
   "execution_count": 41,
   "metadata": {
    "collapsed": false
   },
   "outputs": [
    {
     "name": "stdout",
     "output_type": "stream",
     "text": [
      "['1901', '12.3']\n",
      "['1902', '45.6']\n",
      "['1903', '78.9']\n"
     ]
    }
   ],
   "source": [
    "with open ('test01.csv', 'r') as rawdata:\n",
    "    csvdata = csv.reader(rawdata)\n",
    "    for record in csvdata:\n",
    "        print (record)"
   ]
  },
  {
   "cell_type": "code",
   "execution_count": 38,
   "metadata": {
    "collapsed": false
   },
   "outputs": [
    {
     "name": "stdout",
     "output_type": "stream",
     "text": [
      "1901 89.73978424072266\n",
      "1902 84.22315216064453\n",
      "1903 119.31846618652344\n",
      "1904 91.66348266601562\n",
      "1905 89.65657043457031\n",
      "1906 98.95526885986328\n",
      "1907 98.48038482666016\n",
      "1908 95.18717956542969\n",
      "1909 98.14665985107422\n",
      "1910 103.52928161621094\n",
      "1911 95.45286560058594\n",
      "1912 108.9598617553711\n",
      "1913 93.2777099609375\n",
      "1914 102.29579162597656\n",
      "1915 97.06973266601562\n",
      "1916 107.87296295166016\n",
      "1917 98.88864135742188\n",
      "1918 105.67728424072266\n",
      "1919 98.01356506347656\n",
      "1920 105.2422103881836\n",
      "1921 86.1358871459961\n",
      "1922 96.65888214111328\n",
      "1923 113.46175384521484\n",
      "1924 109.6202392578125\n",
      "1925 98.27181243896484\n",
      "1926 102.01596069335938\n",
      "1927 110.8193359375\n",
      "1928 115.2984619140625\n",
      "1929 100.12940216064453\n",
      "1930 108.5672607421875\n",
      "1931 102.66221618652344\n",
      "1932 101.97649383544922\n",
      "1933 79.8314437866211\n",
      "1934 100.34272766113281\n",
      "1935 107.33514404296875\n",
      "1936 98.53144836425781\n",
      "1937 94.9148178100586\n",
      "1938 111.8836441040039\n",
      "1939 98.04186248779297\n",
      "1940 97.34461975097656\n",
      "1941 86.44178771972656\n",
      "1942 99.07189178466797\n",
      "1943 100.81599426269531\n",
      "1944 100.7071533203125\n",
      "1945 93.96513366699219\n",
      "1946 104.6628189086914\n",
      "1947 91.6974868774414\n",
      "1948 110.64335632324219\n",
      "1949 99.34590911865234\n",
      "1950 111.71575927734375\n",
      "1951 109.48321533203125\n",
      "1952 95.30955505371094\n",
      "1953 88.76084899902344\n",
      "1954 119.55448150634766\n",
      "1955 83.76612091064453\n",
      "1956 94.41340637207031\n",
      "1957 102.37519836425781\n",
      "1958 102.82244873046875\n",
      "1959 94.30015563964844\n",
      "1960 109.70860290527344\n",
      "1961 102.67496490478516\n",
      "1962 95.75684356689453\n",
      "1963 91.66914367675781\n",
      "1964 88.49595642089844\n",
      "1965 103.84146881103516\n",
      "1966 108.05892181396484\n",
      "1967 111.24398040771484\n",
      "1968 96.91545104980469\n",
      "1969 93.35447692871094\n",
      "1970 103.3067626953125\n",
      "1971 87.93647766113281\n",
      "1972 90.83573150634766\n",
      "1973 89.29792022705078\n",
      "1974 107.51863098144531\n",
      "1975 86.90357971191406\n",
      "1976 92.11167907714844\n",
      "1977 100.82731628417969\n",
      "1978 98.16151428222656\n",
      "1979 109.2149429321289\n",
      "1980 107.2969741821289\n",
      "1981 108.48765563964844\n",
      "1982 112.34332275390625\n",
      "1983 100.25491333007812\n",
      "1984 102.18620300292969\n",
      "1985 104.05267333984375\n",
      "1986 111.35047912597656\n",
      "1987 99.15782165527344\n",
      "1988 108.25444030761719\n",
      "1989 100.03694915771484\n",
      "1990 114.27284240722656\n",
      "1991 95.51949310302734\n",
      "1992 114.05003356933594\n",
      "1993 105.5682373046875\n",
      "1994 114.24977111816406\n",
      "1995 100.28663635253906\n",
      "1996 90.22846221923828\n",
      "1997 96.02803039550781\n",
      "1998 118.20884704589844\n",
      "1999 118.4039306640625\n",
      "2000 119.49745178222656\n",
      "2001 96.44131469726562\n",
      "2002 115.35612487792969\n",
      "2003 84.73816680908203\n",
      "2004 106.19056701660156\n",
      "2005 100.51760864257812\n",
      "2006 104.275634765625\n",
      "2007 101.73286437988281\n",
      "2008 116.0248794555664\n",
      "2009 114.0855712890625\n",
      "2010 90.66874694824219\n",
      "2011 106.08039855957031\n",
      "2012 118.43199157714844\n"
     ]
    }
   ],
   "source": [
    "url = \"http://climatedataapi.worldbank.org/climateweb/rest/v1/country/cru/pr/year/GBR.csv\"\n",
    "\n",
    "response = requests.get(url)\n",
    "\n",
    "if response.status_code != 200:\n",
    "    print ('Failed to get data:', response.status_code)\n",
    "else:\n",
    "    wrapper = csv.reader(response.text.strip().split('\\n'))\n",
    "    for record in wrapper:\n",
    "        if record[0] != 'year':\n",
    "            year = int(record [0])\n",
    "            value = float(record [1])\n",
    "            print (year, value) "
   ]
  },
  {
   "cell_type": "code",
   "execution_count": null,
   "metadata": {
    "collapsed": true
   },
   "outputs": [],
   "source": []
  }
 ],
 "metadata": {
  "kernelspec": {
   "display_name": "Python 3",
   "language": "python",
   "name": "python3"
  },
  "language_info": {
   "codemirror_mode": {
    "name": "ipython",
    "version": 3
   },
   "file_extension": ".py",
   "mimetype": "text/x-python",
   "name": "python",
   "nbconvert_exporter": "python",
   "pygments_lexer": "ipython3",
   "version": "3.4.1"
  }
 },
 "nbformat": 4,
 "nbformat_minor": 2
}
